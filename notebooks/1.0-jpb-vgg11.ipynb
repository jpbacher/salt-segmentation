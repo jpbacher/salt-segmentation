{
 "cells": [
  {
   "cell_type": "code",
   "execution_count": 1,
   "metadata": {},
   "outputs": [],
   "source": [
    "import sys\n",
    "import os\n",
    "from os.path import join\n",
    "import numpy as np\n",
    "import pandas as pd\n",
    "import matplotlib.pyplot as plt\n",
    "import torch\n",
    "from torch.utils.data import DataLoader\n",
    "import cv2\n",
    "\n",
    "PROJ_ROOT = os.pardir\n",
    "root_path = join(PROJ_ROOT, 'dataset')\n",
    "data_dir = join(PROJ_ROOT, 'data')\n",
    "sys.path.append(data_dir)\n",
    "\n",
    "from salt_dataset import SaltDataset"
   ]
  },
  {
   "cell_type": "code",
   "execution_count": 2,
   "metadata": {},
   "outputs": [],
   "source": [
    "depth_df = pd.read_csv(join(PROJ_ROOT, 'dataset', 'train.csv'))\n",
    "file_list = list(depth_df['id'].values)\n",
    "\n",
    "np.random.seed(24)\n",
    "np.random.shuffle(file_list)"
   ]
  },
  {
   "cell_type": "code",
   "execution_count": 3,
   "metadata": {},
   "outputs": [],
   "source": [
    "f_val = file_list[::10]\n",
    "f_train = list(set(file_list) - set(f_val))"
   ]
  },
  {
   "cell_type": "code",
   "execution_count": 4,
   "metadata": {},
   "outputs": [],
   "source": [
    "train_ds = SaltDataset(root_path, f_train)\n",
    "val_ds = SaltDataset(root_path, f_val)\n",
    "\n",
    "train_loader = DataLoader(train_ds, batch_size=16)\n",
    "val_loader = DataLoader(val_ds, batch_size=16)"
   ]
  },
  {
   "cell_type": "code",
   "execution_count": null,
   "metadata": {},
   "outputs": [],
   "source": []
  }
 ],
 "metadata": {
  "kernelspec": {
   "display_name": "Python 3",
   "language": "python",
   "name": "python3"
  },
  "language_info": {
   "codemirror_mode": {
    "name": "ipython",
    "version": 3
   },
   "file_extension": ".py",
   "mimetype": "text/x-python",
   "name": "python",
   "nbconvert_exporter": "python",
   "pygments_lexer": "ipython3",
   "version": "3.7.4"
  }
 },
 "nbformat": 4,
 "nbformat_minor": 4
}
